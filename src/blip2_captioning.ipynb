{
 "cells": [
  {
   "cell_type": "markdown",
   "metadata": {},
   "source": [
    "## Captioning Image Datasets with BLIP-2"
   ]
  },
  {
   "cell_type": "markdown",
   "metadata": {},
   "source": [
    "### Set all the necessary parameters"
   ]
  },
  {
   "cell_type": "code",
   "execution_count": null,
   "metadata": {},
   "outputs": [],
   "source": [
    "# Set the seed for reproducibility\n",
    "seed = 420\n",
    "\n",
    "# Set the dataset name\n",
    "dataset_name = \"imagewoof\"\n",
    "\n",
    "# Set if the captions should be grouped by class or not (in the case of finetuning prompts, the captions must respect the order of the HF dataset)\n",
    "group_by_class = False\n",
    "if group_by_class:\n",
    "    output_captions_file = f\"../storage/prompts/{dataset_name}_blip2_pipeline.json\"\n",
    "else:\n",
    "    output_captions_file = f\"../storage/prompts/{dataset_name}_blip2_finetuning.txt\"\n",
    "\n",
    "# Set the dataset path on Hugging Face Datasets library\n",
    "dataset_hf_path = \"frgfm/imagewoof\"\n",
    "\n",
    "# Set the name of the image and label columns of the dataset on Hugging Face\n",
    "image_column = \"image\"\n",
    "label_column = \"label\"\n",
    "\n",
    "# Set the BLIP-2 checkpoint on Hugging Face\n",
    "blip2_checkpoint = \"Salesforce/blip2-opt-2.7b\""
   ]
  },
  {
   "cell_type": "markdown",
   "metadata": {},
   "source": [
    "### Run to create the captions file!"
   ]
  },
  {
   "cell_type": "code",
   "execution_count": null,
   "metadata": {},
   "outputs": [],
   "source": [
    "import json\n",
    "import random\n",
    "import numpy as np\n",
    "from datasets import load_dataset, ClassLabel\n",
    "from transformers import AutoProcessor, Blip2ForConditionalGeneration\n",
    "import torch\n",
    "from tqdm import tqdm\n",
    "from PIL import Image\n",
    "import torchvision.transforms as transforms\n",
    "import IPython\n",
    "\n",
    "# Set random seed for reproducibility\n",
    "random.seed(seed)\n",
    "np.random.seed(seed)\n",
    "torch.manual_seed(seed)\n",
    "torch.cuda.manual_seed(seed)\n",
    "\n",
    "# Load dataset\n",
    "if dataset_hf_path == \"frgfm/imagewoof\":\n",
    "    dataset = load_dataset(dataset_hf_path, \"full_size\", split=\"train\")\n",
    "else:\n",
    "    dataset = load_dataset(dataset_hf_path, split=\"train\")\n",
    "\n",
    "# Load BLIP-2 captioner and image_processor\n",
    "image_processor = AutoProcessor.from_pretrained(blip2_checkpoint)\n",
    "captioner = Blip2ForConditionalGeneration.from_pretrained(blip2_checkpoint, torch_dtype=torch.float16)\n",
    "\n",
    "# Move captioner to GPU if available\n",
    "device = \"cuda\" if torch.cuda.is_available() else \"cpu\"\n",
    "captioner.to(device)\n",
    "\n",
    "# Function to generate caption for an image\n",
    "def generate_caption(image):\n",
    "    inputs = image_processor(image, return_tensors=\"pt\").to(device, torch.float16) # the image_processor will take care of resizing and normalizing the image\n",
    "    generated_ids = captioner.generate(**inputs, max_new_tokens=20)\n",
    "    caption = image_processor.batch_decode(generated_ids, skip_special_tokens=True)[0].strip()\n",
    "    return caption\n",
    "\n",
    "\n",
    "# Generate captions for the train split of the dataset\n",
    "captions = {} if group_by_class else []\n",
    "for item in tqdm(dataset):\n",
    "    image = item[image_column]\n",
    "    label = item[label_column]\n",
    "\n",
    "    # Process the label to get a string: if the label is of type 'ClassLabel', convert it to string\n",
    "    if isinstance(dataset.features[label_column], ClassLabel):\n",
    "        label = dataset.features[label_column].int2str(label)\n",
    "\n",
    "    # Fix the \"cra\" typo in CIFAR-100 dataset\n",
    "    if dataset_hf_path == \"uoft-cs/cifar100\" and label == \"cra\":\n",
    "        label = \"crab\"\n",
    "\n",
    "    caption = generate_caption(image)\n",
    "\n",
    "    if group_by_class:\n",
    "        if label not in captions:\n",
    "            captions[label] = []\n",
    "        captions[label].append(caption)\n",
    "    else:\n",
    "        captions.append(f\"{label}: {caption}\")\n",
    "\n",
    "\n",
    "# Save pipeline captions to a JSON file (with indentation for better readability)\n",
    "if group_by_class:\n",
    "    with open(output_captions_file, 'w') as f:\n",
    "        json.dump(captions, f, indent=4)\n",
    "# Save finetuning captions to a TXT file\n",
    "else:\n",
    "    with open(output_captions_file, 'w') as f:\n",
    "        for caption in captions:\n",
    "            f.write(caption + '\\n')\n",
    "\n",
    "\n",
    "print(f\"Captions saved to {output_captions_file}\")"
   ]
  }
 ],
 "metadata": {
  "kernelspec": {
   "display_name": "Python 3 (ipykernel)",
   "language": "python",
   "name": "python3"
  },
  "language_info": {
   "codemirror_mode": {
    "name": "ipython",
    "version": 3
   },
   "file_extension": ".py",
   "mimetype": "text/x-python",
   "name": "python",
   "nbconvert_exporter": "python",
   "pygments_lexer": "ipython3",
   "version": "3.10.14"
  }
 },
 "nbformat": 4,
 "nbformat_minor": 2
}
