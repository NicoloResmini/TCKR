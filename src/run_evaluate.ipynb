{
 "cells": [
  {
   "cell_type": "markdown",
   "metadata": {},
   "source": [
    "# Notebook for running the script implementing dataset generation and evaluation"
   ]
  },
  {
   "cell_type": "markdown",
   "metadata": {},
   "source": [
    "| Dataset     | MBNv3 ofa_config                                                                                                           |\n",
    "|-------------|----------------------------------------------------------------------------------------------------------------------------|\n",
    "| cifar10     | 10_4-7-6_4-7-6_4-7-4_4-7-4_4-7-4_4-7-4_4-7-4_4-7-4_3-7-4_3-7-4_3-7-4_0-0-0_4-7-4_4-7-4_4-7-4_4-7-4_4-7-4_4-7-4_4-7-4_4-7-4 |\n",
    "| cifar100    | 10_4-7-4_4-7-4_4-7-4_4-7-4_4-7-4_4-7-4_4-7-4_4-7-4_4-7-4_4-7-4_4-7-4_4-7-4_3-7-4_3-7-4_3-7-4_0-0-0_4-7-4_4-7-4_4-7-6_4-7-4 |\n",
    "| oxfordpets  | 10_4-7-4_4-7-4_4-7-4_4-7-4_4-7-4_4-7-4_4-7-4_4-7-4_4-7-4_4-7-4_4-7-4_4-7-4_4-7-4_4-7-4_4-7-4_4-7-4_4-7-4_4-7-4_4-7-4_4-7-4 |\n",
    "| tinyimagenet| 10_4-7-4_4-7-4_4-7-4_4-7-4_4-7-4_4-7-4_4-7-6_4-7-4_4-7-4_4-7-4_4-7-4_4-7-4_4-7-4_4-7-4_4-7-4_4-7-4_4-7-4_4-7-4_4-7-4_4-7-6 |\n",
    "| stanfordcars| 10_4-7-4_4-7-4_4-7-4_4-7-4_4-7-4_4-7-4_4-7-4_4-7-4_4-7-4_4-7-4_4-7-4_4-7-4_4-7-4_4-7-3_4-7-4_4-7-4_4-7-4_4-7-4_4-5-6_4-5-4 |\n",
    "| food101     | 10_4-7-4_4-7-4_4-7-6_4-7-4_4-7-4_4-7-4_4-7-6_4-7-4_4-7-4_4-7-4_4-7-4_4-7-4_4-7-4_4-7-4_4-7-4_4-7-4_4-7-4_4-7-4_4-7-4_4-7-4 |\n",
    "| dermamnist  | 10_4-7-4_4-7-4_4-7-4_4-7-4_4-7-4_4-7-4_4-7-4_4-7-4_4-7-4_4-7-4_4-7-4_4-7-4_4-7-4_4-7-4_4-7-4_4-7-4_4-7-4_4-7-4_4-7-4_4-7-6 |\n",
    "| bloodmnist  | 10_4-7-4_4-7-4_4-7-4_4-7-4_4-7-4_4-7-4_4-7-4_4-7-4_4-7-4_4-7-4_4-7-4_4-7-4_4-7-4_4-7-4_4-7-4_4-7-4_4-7-4_4-7-4_4-7-4_4-7-4 |\n",
    "| stl10       | 10_4-7-4_4-7-4_4-7-6_4-7-4_4-7-4_4-7-4_4-7-6_4-7-4_4-7-4_4-7-4_4-7-4_4-7-4_4-7-4_4-7-4_4-7-4_4-7-4_4-7-4_4-7-4_4-7-4_4-7-4 |\n",
    "| imagenette  | 10_4-7-4_4-7-4_4-7-4_4-7-4_4-7-4_4-7-4_4-7-4_4-7-4_3-7-4_3-7-4_3-7-4_0-0-0_4-7-4_4-7-4_4-7-4_4-7-4_4-7-4_4-7-4_4-7-4_4-7-4 |\n",
    "| caltech101  | 10_4-7-4_4-7-6_4-7-4_4-7-4_4-7-4_4-7-4_4-7-4_4-7-4_4-7-4_4-7-4_4-7-4_4-7-4_4-7-4_4-7-4_4-7-4_4-7-4_4-7-4_4-7-4_4-7-4_4-7-4 |\n",
    "| imagewoof   | 10_4-7-4_4-7-4_4-7-4_4-7-6_4-7-4_4-7-4_4-7-4_4-7-4_4-7-4_4-7-4_4-7-4_4-7-4_4-7-4_4-7-4_4-7-4_4-7-4_4-7-4_4-7-4_4-7-4_4-7-4 |"
   ]
  },
  {
   "cell_type": "markdown",
   "metadata": {},
   "source": [
    "### Set the parameters\n",
    "\n",
    "Note: other parameters are initialized in the script with default values."
   ]
  },
  {
   "cell_type": "code",
   "execution_count": null,
   "metadata": {},
   "outputs": [],
   "source": [
    "config = {\n",
    "    \"dataset_name\": \"cifar10\", # stored in the storage/datasets folder   \n",
    "    \"finetuned_sd_path\": \"../storage/finetuned_SD/cifar10/className_and_blip2/1.00\", # set the path to the LoRA-finetuned Stable Diffusion model\n",
    "    \"prompts_file\": \"../storage/prompts/cifar10_blip2_pipeline.json\", # set the path to the prompts file\n",
    "    \"synthetic_to_real_train_dataset_ratio\": 1, # set the cardinality of the synthetic training dataset w.r.t. the real training dataset\n",
    "    \"already_saved_synthetic_dataset_dir\": \"../storage/synthetic_datasets_not_preprocessed/20250117_1009\", # set the path to the synthetic dataset already saved on disk\n",
    "    \"save_synthetic_dataset\": True, # set to True if you are generating a synthetic dataset for the first time, to save it on disk for future use\n",
    "    \"ofa_config\": '10_4-7-6_4-7-6_4-7-4_4-7-4_4-7-4_4-7-4_4-7-4_4-7-4_3-7-4_3-7-4_3-7-4_0-0-0_4-7-4_4-7-4_4-7-4_4-7-4_4-7-4_4-7-4_4-7-4_4-7-4', # paste the OFA config here\n",
    "    \"use_also_real_classifier\": True, # set to True either if you want to train the real classifier or if you want to use it as Teacher for producing soft labels\n",
    "    \"trained_real_classifier_weights\": \"../storage/trained_real_classifiers/20241009_1403.pth\", # set the path to the trained real classifier weights\n",
    "    \"use_soft_labels\": True, # set to True if you want to use soft labels for training the student, False for classic hard labels\n",
    "}"
   ]
  },
  {
   "cell_type": "markdown",
   "metadata": {},
   "source": [
    "### Run!"
   ]
  },
  {
   "cell_type": "code",
   "execution_count": null,
   "metadata": {},
   "outputs": [],
   "source": [
    "import IPython\n",
    "from evaluate import run_script\n",
    "\n",
    "# Run the evaluation script\n",
    "run_script(**config)\n",
    "\n",
    "# Restart the kernel\n",
    "IPython.Application.instance().kernel.do_shutdown(restart=True)"
   ]
  }
 ],
 "metadata": {
  "kernelspec": {
   "display_name": "Python 3 (ipykernel)",
   "language": "python",
   "name": "python3"
  }
 },
 "nbformat": 4,
 "nbformat_minor": 2
}
