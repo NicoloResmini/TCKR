{
 "cells": [
  {
   "cell_type": "markdown",
   "metadata": {},
   "source": [
    "# Notebook for running the script *evaluate.py*"
   ]
  },
  {
   "cell_type": "markdown",
   "metadata": {},
   "source": [
    "| Dataset     | MBNv3 ofa_config                                                                                                           |\n",
    "|-------------|----------------------------------------------------------------------------------------------------------------------------|\n",
    "| cifar10     | 10_4-7-6_4-7-6_4-7-4_4-7-4_4-7-4_4-7-4_4-7-4_4-7-4_3-7-4_3-7-4_3-7-4_0-0-0_4-7-4_4-7-4_4-7-4_4-7-4_4-7-4_4-7-4_4-7-4_4-7-4 |\n",
    "| cifar100    | 10_4-7-4_4-7-4_4-7-4_4-7-4_4-7-4_4-7-4_4-7-4_4-7-4_4-7-4_4-7-4_4-7-4_4-7-4_3-7-4_3-7-4_3-7-4_0-0-0_4-7-4_4-7-4_4-7-6_4-7-4 |\n",
    "| oxfordpets  | 10_4-7-4_4-7-4_4-7-4_4-7-4_4-7-4_4-7-4_4-7-4_4-7-4_4-7-4_4-7-4_4-7-4_4-7-4_4-7-4_4-7-4_4-7-4_4-7-4_4-7-4_4-7-4_4-7-4_4-7-4 |\n",
    "| tinyimagenet| 10_4-7-4_4-7-4_4-7-4_4-7-4_4-7-4_4-7-4_4-7-6_4-7-4_4-7-4_4-7-4_4-7-4_4-7-4_4-7-4_4-7-4_4-7-4_4-7-4_4-7-4_4-7-4_4-7-4_4-7-6 |\n",
    "| stanfordcars| 10_4-7-4_4-7-4_4-7-4_4-7-4_4-7-4_4-7-4_4-7-4_4-7-4_4-7-4_4-7-4_4-7-4_4-7-4_4-7-4_4-7-3_4-7-4_4-7-4_4-7-4_4-7-4_4-5-6_4-5-4 |\n",
    "| food101     | 10_4-7-4_4-7-4_4-7-6_4-7-4_4-7-4_4-7-4_4-7-6_4-7-4_4-7-4_4-7-4_4-7-4_4-7-4_4-7-4_4-7-4_4-7-4_4-7-4_4-7-4_4-7-4_4-7-4_4-7-4 |\n",
    "| dermamnist  | 10_4-7-4_4-7-4_4-7-4_4-7-4_4-7-4_4-7-4_4-7-4_4-7-4_4-7-4_4-7-4_4-7-4_4-7-4_4-7-4_4-7-4_4-7-4_4-7-4_4-7-4_4-7-4_4-7-4_4-7-6 |\n",
    "| bloodmnist  | 10_4-7-4_4-7-4_4-7-4_4-7-4_4-7-4_4-7-4_4-7-4_4-7-4_4-7-4_4-7-4_4-7-4_4-7-4_4-7-4_4-7-4_4-7-4_4-7-4_4-7-4_4-7-4_4-7-4_4-7-4 |\n",
    "| stl10       | 10_4-7-4_4-7-4_4-7-6_4-7-4_4-7-4_4-7-4_4-7-6_4-7-4_4-7-4_4-7-4_4-7-4_4-7-4_4-7-4_4-7-4_4-7-4_4-7-4_4-7-4_4-7-4_4-7-4_4-7-4 |\n",
    "| imagenette  | 10_4-7-4_4-7-4_4-7-4_4-7-4_4-7-4_4-7-4_4-7-4_4-7-4_3-7-4_3-7-4_3-7-4_0-0-0_4-7-4_4-7-4_4-7-4_4-7-4_4-7-4_4-7-4_4-7-4_4-7-4 |\n",
    "| caltech101  | 10_4-7-4_4-7-6_4-7-4_4-7-4_4-7-4_4-7-4_4-7-4_4-7-4_4-7-4_4-7-4_4-7-4_4-7-4_4-7-4_4-7-4_4-7-4_4-7-4_4-7-4_4-7-4_4-7-4_4-7-4 |\n",
    "| imagewoof   | 10_4-7-4_4-7-4_4-7-4_4-7-6_4-7-4_4-7-4_4-7-4_4-7-4_4-7-4_4-7-4_4-7-4_4-7-4_4-7-4_4-7-4_4-7-4_4-7-4_4-7-4_4-7-4_4-7-4_4-7-4 |"
   ]
  },
  {
   "cell_type": "markdown",
   "metadata": {},
   "source": [
    "### Set the parameters\n",
    "\n",
    "Note: other parameters are initialized in the script with default values."
   ]
  },
  {
   "cell_type": "code",
   "execution_count": null,
   "metadata": {},
   "outputs": [],
   "source": [
    "config = {\n",
    "    \"dataset_name\": \"cifar10\", # options: cifar10, cifar100, oxfordpets, tinyimagenet, food101, stanfordcars, dermamnist, bloodmnist, stl10, imagenette, imagewoof, caltech101   \n",
    "    \"finetuned_sd_path\": \"../storage/lora_sd2/cifar10\", # set the path to the folder containing the needed LoRA weights of the finetuned Stable Diffusion model\n",
    "    \"finetuned_sd_weights\": \"lora_sd2_cifar10.safetensors\", # set the name of the weights file stored at the finetuned_sd_path\n",
    "    \"prompts_file\": \"../storage/prompts/grouped_by_class/cifar10_blip2_pipeline.json\", # set the path to the prompts file\n",
    "    \"synthetic_to_real_train_dataset_ratio\": 1, # set the cardinality of the Synthetic training dataset w.r.t. the size of the corresponding Real training dataset\n",
    "    \"already_saved_synthetic_dataset_dir\": \"../storage/synthetic_datasets_not_preprocessed/20250117_1009\", # set the path to the synthetic dataset already stored on disk (set to None if you want to generate a new synthetic dataset)\n",
    "    \"save_synthetic_dataset\": True, # set to True to save permanently on disk the generated synthetic dataset (e.g., if you are generating a 20x synthetic dataset for the first time)\n",
    "    \"ofa_config\": '10_4-7-6_4-7-6_4-7-4_4-7-4_4-7-4_4-7-4_4-7-4_4-7-4_3-7-4_3-7-4_3-7-4_0-0-0_4-7-4_4-7-4_4-7-4_4-7-4_4-7-4_4-7-4_4-7-4_4-7-4', # paste the ofa_config from the above table\n",
    "    \"use_soft_labels\": True, # set to True if you want to use soft labels for training the student, False for classic hard labels\n",
    "    \"use_also_real_classifier\": True, # set to True either if you want to train a classifier on the real dataset or if you want to use soft labels (for which a Teacher model is needed)\n",
    "    \"trained_real_classifier_weights\": \"../storage/trained_mbnv3/teachers/cifar10_mbnv3_real.pth\", # set the path to the trained real classifier weights (needed if use_soft_labels is set to True)\n",
    "}"
   ]
  },
  {
   "cell_type": "markdown",
   "metadata": {},
   "source": [
    "### Run!\n",
    "\n",
    "Note: the execution progress and the results are printed in the log file created automatically in the folder *all_pipelines_logs*."
   ]
  },
  {
   "cell_type": "code",
   "execution_count": null,
   "metadata": {},
   "outputs": [],
   "source": [
    "from evaluate import run_script\n",
    "\n",
    "run_script(**config)"
   ]
  }
 ],
 "metadata": {
  "kernelspec": {
   "display_name": "Python 3 (ipykernel)",
   "language": "python",
   "name": "python3"
  }
 },
 "nbformat": 4,
 "nbformat_minor": 2
}
